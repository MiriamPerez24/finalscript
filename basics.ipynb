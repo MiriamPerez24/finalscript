{
 "cells": [
  {
   "cell_type": "code",
   "execution_count": null,
   "metadata": {},
   "outputs": [],
   "source": [
    "print(\"Hola Mundo\")"
   ]
  },
  {
   "attachments": {},
   "cell_type": "markdown",
   "metadata": {},
   "source": [
    "---\n",
    "#### *Tipos de variables y como saber que tipo de variables son* 🤯"
   ]
  },
  {
   "cell_type": "code",
   "execution_count": null,
   "metadata": {},
   "outputs": [],
   "source": [
    "age = 31\n",
    "temperature = 38.5\n",
    "name = \"Miriam Perez\"\n",
    "\n",
    "is_cool = True\n",
    "number = [1,2,3,4,5,6]\n",
    "tuplas = (\"Uno\",\"Dos\",\"Tres\")\n",
    "series = set([1,2,3,4,5,6,1]) #Los sets no repiten los numeros\n"
   ]
  },
  {
   "cell_type": "code",
   "execution_count": null,
   "metadata": {},
   "outputs": [],
   "source": [
    "print (type(age))\n",
    "print (type(is_cool))\n",
    "print (type(number))\n",
    "print (type(temperature))\n",
    "print (series)"
   ]
  },
  {
   "attachments": {},
   "cell_type": "markdown",
   "metadata": {},
   "source": [
    "---\n",
    "#### *Operadores* 🧮\n",
    "1. **+**\n",
    "2. **-**\n",
    "3. __*__\n",
    "4. **/**\n",
    "5. **//**\n",
    "6. **%**"
   ]
  },
  {
   "cell_type": "code",
   "execution_count": null,
   "metadata": {},
   "outputs": [],
   "source": [
    "# Sirve para que nos de el residuo de la division\n",
    "print(6%2)"
   ]
  },
  {
   "cell_type": "code",
   "execution_count": null,
   "metadata": {},
   "outputs": [],
   "source": [
    "# Nos brinda el cociente de la division\n",
    "print(25/4)"
   ]
  },
  {
   "cell_type": "code",
   "execution_count": null,
   "metadata": {},
   "outputs": [],
   "source": [
    "# Nos brinda el cociente de la division pero en numeros enteros\n",
    "print(25//4)"
   ]
  },
  {
   "cell_type": "code",
   "execution_count": null,
   "metadata": {},
   "outputs": [],
   "source": [
    "# Indica que se repita 5 veces el texto\n",
    "print(\"Ayudaa\" *5)"
   ]
  },
  {
   "attachments": {},
   "cell_type": "markdown",
   "metadata": {},
   "source": [
    "---\n",
    "#### *Mini programa para saber si el usuario es mayor o menor de edad* 🧐"
   ]
  },
  {
   "cell_type": "code",
   "execution_count": null,
   "metadata": {},
   "outputs": [],
   "source": [
    "# Se declara una variable y se solicita que se le ingrese un dato entero\n",
    "age = int(input(\"Dame tu edad\"))\n",
    "\n",
    "def isAdult(age): # Se crea una funcion para saber si el usuario es un adulto o no\n",
    "    if age > 18: # Se compara el dato ingresado para saber si es mayor\n",
    "        print(\"Eres mayor de edad\")\n",
    "    else: # Si no es mayor entonces se despliega el mensaje de que es menor de edad\n",
    "        print(\"Eres menor de edad\")\n",
    "isAdult(age)# Se manda a llamar la funcion "
   ]
  },
  {
   "attachments": {},
   "cell_type": "markdown",
   "metadata": {},
   "source": [
    "---\n",
    "#### *Guess a number please* 🤫\n",
    "\n",
    "1. Elegir un numero random(PC)\n",
    "2. Yo le digo un numero \n",
    "3. Si el numero es mas grande le digo que esta <mark>high</mark>.\n",
    "4. Si el numero es mas chico le digo que esta <mark>low</mark>\n"
   ]
  },
  {
   "cell_type": "code",
   "execution_count": null,
   "metadata": {},
   "outputs": [],
   "source": [
    "# Se importo la funcion random\n",
    "import random \n",
    "\n",
    "# Se crea una funcion llamada guess \n",
    "def guess(top):\n",
    "    random_number = random.randint(1, top) # Se crea una variable llamada random_number para almacenar el numero aleatorio entero\n",
    "    print(f\"El numero al azar es: {random_number}\") # Se imprime el numero que salio de manera aleatoria  \n",
    "    guess = 0 # se declara una varible que almacenara el numero que ingrese el usuario\n",
    "\n",
    "    while guess != random_number: # Ciclo que solo parara cuando el numero random sea igual que el numero del usuario\n",
    "        guess = int(input(\"Adivina el numero: \")) # Se le solicita al usuario que ingrese un numero\n",
    "        if guess > random_number: # Se realiza una condicion para comparar si el numero ingresado es mayor que el numero aleatorio\n",
    "            print(\"Te fuiste muy arriba.\")\n",
    "        elif guess < random_number: # Se realiza una condicion para comparar si el numero ingresado es menor que el numero aleatorio\n",
    "            print(\"Te fuiste muy abajo\")\n",
    "\n",
    "    print(f\"Felicidades el numero era: {guess}\") # Mensaje que se imprime cuando se termina el ciclo\n",
    "    \n",
    "guess(100) # Se manda a llamar la funcion y se coloca como rango que los numeros seran del 1 al 100"
   ]
  },
  {
   "attachments": {},
   "cell_type": "markdown",
   "metadata": {},
   "source": [
    "---\n",
    "### *Consumir una API con Python (primera parte):* 📚\n",
    "\n",
    "\n"
   ]
  },
  {
   "cell_type": "code",
   "execution_count": null,
   "metadata": {},
   "outputs": [],
   "source": [
    "import requests\n",
    "\n",
    "x = requests.get('https://jsonplaceholder.typicode.com/todos/1')\n",
    "\n",
    "print(x.text)"
   ]
  },
  {
   "attachments": {},
   "cell_type": "markdown",
   "metadata": {},
   "source": [
    "---\n",
    "#### *Mini programa para que la maquina adivine el numero ingresado por el usuario* 👀"
   ]
  },
  {
   "cell_type": "code",
   "execution_count": 14,
   "metadata": {},
   "outputs": [
    {
     "name": "stdout",
     "output_type": "stream",
     "text": [
      "Piensa en un número del 1 al 100.\n",
      "¿Es el número 5 ?\n",
      "¿Es el número 8 ?\n",
      "¿Es el número 9 ?\n",
      "¿Es el número 10 ?\n",
      "¡Adiviné el número en 4 intentos!\n",
      "El numero a divinar era:  10\n"
     ]
    }
   ],
   "source": [
    "def adivina_numero(num):\n",
    "    print(\"Piensa en un número del 1 al 100.\")\n",
    "    num = int(input(\"Ingrese un numero: \")) # Variable para almacenar el dato ingresado por el usuario\n",
    "   \n",
    "    limite_inferior = 1\n",
    "    limite_superior = 100\n",
    "    intentos = 0\n",
    "    respuestas = set()  # Almacenar las respuestas dadas\n",
    "\n",
    "   # Se le pide al usuario que ingrese un rango\n",
    "    print(\"Ingrese el rango en el cual se encuentra el numero que se tiene que adivinar...\")\n",
    "    rango_inferior = int(input(\"Ingresa el límite inferior del rango: \"))\n",
    "    rango_superior = int(input(\"Ingresa el límite superior del rango: \"))\n",
    "    limite_inferior = max(limite_inferior, rango_inferior) # max sirve para seleccionar el valor mas grande y lo reemplaza \n",
    "    limite_superior = min(limite_superior, rango_superior) # min sirve para seleccionar el valor que sea menor y lo reemplaza\n",
    "    \n",
    "    while True:\n",
    "        intentos += 1\n",
    "        numero_adivinado = (limite_inferior + limite_superior) // 2 # Se suman los limites y se divide entre 2 y el resultado es entero\n",
    "        \n",
    "        # Verificar si la respuesta actual ya ha sido dada anteriormente\n",
    "        if numero_adivinado in respuestas:\n",
    "            numero_adivinado = limite_inferior + 1\n",
    "        \n",
    "        print(\"¿Es el número\", numero_adivinado, \"?\")\n",
    "        respuestas.add(numero_adivinado)  # Se agrega la respuesta actual\n",
    "        \n",
    "        respuesta = input(\"Ingresa 's' si es correcto, 'm' si tu número es más pequeño o 'g' si es más grande: \")\n",
    "        \n",
    "        if respuesta.lower() == 's': # lower nos sirve para convertir el dato en minusculas\n",
    "            print(\"¡Adiviné el número en\", intentos, \"intentos!\\nEl numero a divinar era: \",num)\n",
    "            break\n",
    "        elif respuesta.lower() == 'm':\n",
    "            limite_superior = numero_adivinado - 1\n",
    "        elif respuesta.lower() == 'g':\n",
    "            limite_inferior = numero_adivinado + 1\n",
    "        else:\n",
    "            print(\"Respuesta inválida. Ingresa 's', 'm' o 'g'.\")\n",
    "        \n",
    "        if limite_inferior > limite_superior:\n",
    "            print(\"¡Ups! Parece que estás haciendo trampa.\")\n",
    "            break\n",
    "\n",
    "adivina_numero(num)\n"
   ]
  }
 ],
 "metadata": {
  "kernelspec": {
   "display_name": "Python 3 (ipykernel)",
   "language": "python",
   "name": "python3"
  },
  "language_info": {
   "codemirror_mode": {
    "name": "ipython",
    "version": 3
   },
   "file_extension": ".py",
   "mimetype": "text/x-python",
   "name": "python",
   "nbconvert_exporter": "python",
   "pygments_lexer": "ipython3",
   "version": "3.11.2"
  },
  "orig_nbformat": 4
 },
 "nbformat": 4,
 "nbformat_minor": 2
}
